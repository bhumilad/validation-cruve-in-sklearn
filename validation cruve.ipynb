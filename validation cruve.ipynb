{
 "cells": [
  {
   "cell_type": "code",
   "execution_count": 6,
   "id": "e6ab37c8",
   "metadata": {},
   "outputs": [],
   "source": [
    "import numpy as np\n",
    "import matplotlib.pyplot as plt\n",
    "from sklearn.preprocessing import PolynomialFeatures\n",
    "from sklearn.linear_model import LinearRegression\n",
    "from sklearn.pipeline import make_pipeline\n",
    "\n",
    "def PolynomialFeatures(degree=2,**kwargs):\n",
    "    make_pipeline(PolynomialFeatures(degree),LinearRegression(**kwargs))"
   ]
  },
  {
   "cell_type": "code",
   "execution_count": 7,
   "id": "86c104b0",
   "metadata": {},
   "outputs": [],
   "source": [
    "# Now let’s create some data to which we will fit our model:\n",
    "def make_data(N, err=1.0, rseed=1):\n",
    "     # randomly sample the data\n",
    "    rng = np.random.RandomState(rseed)\n",
    "    x = rng.rand(N, 1) ** 2\n",
    "    y = 10 - 1. / (x.ravel() + 0.1)\n",
    "    if err > 0:\n",
    "        y += err * rng.randn(N)\n",
    "        return x, y\n",
    "x, y = make_data(40)\n"
   ]
  },
  {
   "cell_type": "code",
   "execution_count": null,
   "id": "4b0f150b",
   "metadata": {},
   "outputs": [],
   "source": [
    "import seaborn; seaborn.set() # plot formatting\n",
    "\n",
    "x_test = np.linspace(-0.1, 1.1, 500)[:, None]\n",
    "\n",
    "plt.scatter(x.ravel(), y, color='black')\n",
    "\n",
    "axis = plt.axis()\n",
    "for degree in [1,3,5]:\n",
    "    y_test = PolynomialFeatures(degree).fit(x,y).predict(x_test)\n",
    "    plt.plot(x_test.ravel(), y_test, label = 'degree={0}'.format(degree))\n",
    "plt.xlim(-0.1, 1.0)\n",
    "plt.ylim(-2, 12)\n",
    "plt.legend(loc='best')"
   ]
  },
  {
   "cell_type": "code",
   "execution_count": null,
   "id": "9f955889",
   "metadata": {},
   "outputs": [],
   "source": []
  }
 ],
 "metadata": {
  "kernelspec": {
   "display_name": "Python 3",
   "language": "python",
   "name": "python3"
  },
  "language_info": {
   "codemirror_mode": {
    "name": "ipython",
    "version": 3
   },
   "file_extension": ".py",
   "mimetype": "text/x-python",
   "name": "python",
   "nbconvert_exporter": "python",
   "pygments_lexer": "ipython3",
   "version": "3.8.3"
  }
 },
 "nbformat": 4,
 "nbformat_minor": 5
}
